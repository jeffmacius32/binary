{
 "cells": [
  {
   "cell_type": "code",
   "execution_count": 1,
   "id": "3821fffe-fca2-459e-9902-279830db489a",
   "metadata": {},
   "outputs": [
    {
     "name": "stdout",
     "output_type": "stream",
     "text": [
      "3\n",
      "-1\n"
     ]
    }
   ],
   "source": [
    "def binarysearch(arr, N, K):\n",
    "    left, right = 0, N - 1\n",
    "    \n",
    "    while left <= right:\n",
    "        mid = left + (right - left) // 2\n",
    "        \n",
    "        if arr[mid] == K:\n",
    "            return mid\n",
    "        elif arr[mid] < K:\n",
    "            left = mid + 1\n",
    "        else:\n",
    "            right = mid - 1\n",
    "    \n",
    "    return -1\n",
    "\n",
    "# Example Usage\n",
    "N1, arr1, K1 = 5, [1, 2, 3, 4, 5], 4\n",
    "N2, arr2, K2 = 5, [11, 22, 33, 44, 55], 445\n",
    "\n",
    "print(binarysearch(arr1, N1, K1))  # Output: 3\n",
    "print(binarysearch(arr2, N2, K2))  # Output: -1\n"
   ]
  }
 ],
 "metadata": {
  "kernelspec": {
   "display_name": "Python 3 (ipykernel)",
   "language": "python",
   "name": "python3"
  },
  "language_info": {
   "codemirror_mode": {
    "name": "ipython",
    "version": 3
   },
   "file_extension": ".py",
   "mimetype": "text/x-python",
   "name": "python",
   "nbconvert_exporter": "python",
   "pygments_lexer": "ipython3",
   "version": "3.11.7"
  }
 },
 "nbformat": 4,
 "nbformat_minor": 5
}
